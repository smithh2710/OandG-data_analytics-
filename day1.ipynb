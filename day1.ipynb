{
 "cells": [
  {
   "cell_type": "code",
   "execution_count": 1,
   "id": "85aeaad5-081b-4b60-8565-ea601029cb96",
   "metadata": {},
   "outputs": [
    {
     "name": "stdout",
     "output_type": "stream",
     "text": [
      "hello world \n"
     ]
    }
   ],
   "source": [
    "print(\"hello world \" ) "
   ]
  },
  {
   "cell_type": "code",
   "execution_count": 4,
   "id": "0bee48c6-4a3a-44f8-8f44-b1d602be13a0",
   "metadata": {},
   "outputs": [
    {
     "name": "stdout",
     "output_type": "stream",
     "text": [
      "hello world \n"
     ]
    }
   ],
   "source": [
    "print(\"hello world \" ) "
   ]
  },
  {
   "cell_type": "code",
   "execution_count": 6,
   "id": "e6440db6-e75e-481f-b4bb-9f292d7e07d8",
   "metadata": {},
   "outputs": [
    {
     "name": "stdout",
     "output_type": "stream",
     "text": [
      "hello world \n"
     ]
    }
   ],
   "source": [
    "print(\"hello world \" ) "
   ]
  },
  {
   "cell_type": "code",
   "execution_count": null,
   "id": "c55ba273-dd8d-412f-b7ad-e5aeb820e008",
   "metadata": {},
   "outputs": [],
   "source": [
    "print(\"hello world \" ) "
   ]
  }
 ],
 "metadata": {
  "kernelspec": {
   "display_name": "Python 3 (ipykernel)",
   "language": "python",
   "name": "python3"
  },
  "language_info": {
   "codemirror_mode": {
    "name": "ipython",
    "version": 3
   },
   "file_extension": ".py",
   "mimetype": "text/x-python",
   "name": "python",
   "nbconvert_exporter": "python",
   "pygments_lexer": "ipython3",
   "version": "3.12.4"
  }
 },
 "nbformat": 4,
 "nbformat_minor": 5
}
